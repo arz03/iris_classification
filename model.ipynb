{
 "cells": [
  {
   "cell_type": "markdown",
   "id": "8755255f",
   "metadata": {},
   "source": [
    "# Setup"
   ]
  },
  {
   "cell_type": "markdown",
   "id": "9ac983cc",
   "metadata": {},
   "source": [
    "Imports"
   ]
  },
  {
   "cell_type": "code",
   "execution_count": 31,
   "id": "8f0f0a34",
   "metadata": {},
   "outputs": [],
   "source": [
    "# data manipulation libs\n",
    "import pandas as pd\n",
    "import numpy as np\n",
    "# data visualization lib\n",
    "import matplotlib.pyplot as plt\n",
    "# data preprocessing libs\n",
    "from sklearn.preprocessing import LabelEncoder\n",
    "from sklearn.model_selection import train_test_split\n",
    "# model implementation libs\n",
    "from sklearn.ensemble import RandomForestClassifier\n",
    "import joblib\n",
    "# model evaluation lib\n",
    "from sklearn.metrics import accuracy_score, classification_report, confusion_matrix"
   ]
  },
  {
   "cell_type": "markdown",
   "id": "349ecea5",
   "metadata": {},
   "source": [
    "Loading dataset"
   ]
  },
  {
   "cell_type": "code",
   "execution_count": 24,
   "id": "7f4c475d",
   "metadata": {},
   "outputs": [
    {
     "name": "stdout",
     "output_type": "stream",
     "text": [
      "Iris dataset loaded successfully.\n"
     ]
    }
   ],
   "source": [
    "from sklearn.datasets import load_iris\n",
    "\n",
    "# Load the Iris dataset\n",
    "iris = load_iris()\n",
    "print(\"Iris dataset loaded successfully.\")\n",
    "\n",
    "# Access the features and target variable\n",
    "X = iris.data  # Features (sepal length, sepal width, petal length, petal width)\n",
    "y = iris.target  # Target variable (species: 0 for setosa, 1 for versicolor, 2 for virginica)"
   ]
  },
  {
   "cell_type": "markdown",
   "id": "ea1d1972",
   "metadata": {},
   "source": [
    "# Data exploration"
   ]
  },
  {
   "cell_type": "code",
   "execution_count": 25,
   "id": "92c175bb",
   "metadata": {},
   "outputs": [
    {
     "name": "stdout",
     "output_type": "stream",
     "text": [
      "<class 'pandas.core.frame.DataFrame'>\n",
      "RangeIndex: 150 entries, 0 to 149\n",
      "Data columns (total 5 columns):\n",
      " #   Column             Non-Null Count  Dtype  \n",
      "---  ------             --------------  -----  \n",
      " 0   sepal length (cm)  150 non-null    float64\n",
      " 1   sepal width (cm)   150 non-null    float64\n",
      " 2   petal length (cm)  150 non-null    float64\n",
      " 3   petal width (cm)   150 non-null    float64\n",
      " 4   target             150 non-null    int64  \n",
      "dtypes: float64(4), int64(1)\n",
      "memory usage: 6.0 KB\n",
      "None\n"
     ]
    }
   ],
   "source": [
    "# Create a DataFrame for better visualization\n",
    "iris_df = pd.DataFrame(data=X, columns=iris.feature_names)\n",
    "iris_df['target'] = y\n",
    "print(iris_df.info())"
   ]
  },
  {
   "cell_type": "code",
   "execution_count": 26,
   "id": "bf509a11",
   "metadata": {},
   "outputs": [
    {
     "name": "stdout",
     "output_type": "stream",
     "text": [
      "Feature names: ['sepal length (cm)', 'sepal width (cm)', 'petal length (cm)', 'petal width (cm)']\n",
      "[[5.1 3.5 1.4 0.2]\n",
      " [4.9 3.  1.4 0.2]\n",
      " [4.7 3.2 1.3 0.2]\n",
      " [4.6 3.1 1.5 0.2]\n",
      " [5.  3.6 1.4 0.2]]\n",
      "Target names: ['setosa' 'versicolor' 'virginica']\n",
      "[0 0 0 0 0]\n"
     ]
    }
   ],
   "source": [
    "# Print the feature names and target names\n",
    "print(\"Feature names:\", iris.feature_names)\n",
    "print(X[:5])  # Display the first 5 rows of features\n",
    "print(\"Target names:\", iris.target_names)\n",
    "print(y[:5])  # Display the first 5 target values"
   ]
  },
  {
   "cell_type": "code",
   "execution_count": 27,
   "id": "5096a738",
   "metadata": {},
   "outputs": [],
   "source": [
    "# label map\n",
    "label_map = {0: 'setosa', 1: 'versicolor', 2: 'virginica'}"
   ]
  },
  {
   "cell_type": "code",
   "execution_count": 50,
   "id": "ed9399fb",
   "metadata": {},
   "outputs": [],
   "source": [
    "# data splitting\n",
    "x_train, x_test, y_train, y_test = train_test_split(X, y, test_size=0.3, random_state=43)"
   ]
  },
  {
   "cell_type": "markdown",
   "id": "484e06cd",
   "metadata": {},
   "source": [
    "# Modeling\n",
    "As the dataset has 150 records, RandomForest classification will be a good fit for this use case."
   ]
  },
  {
   "cell_type": "code",
   "execution_count": 60,
   "id": "3f234cf2",
   "metadata": {},
   "outputs": [],
   "source": [
    "# train function\n",
    "def train_model(model, x_train, x_test, y_train, y_test):\n",
    "    \"\"\"\n",
    "    Train the model and evaluate its performance.\n",
    "    \"\"\"\n",
    "    # Fit the model to the training data.\n",
    "    model.fit(x_train, y_train)\n",
    "\n",
    "    # make predictions on the test data\n",
    "    y_pred_train = model.predict(x_train)\n",
    "    y_pred_test = model.predict(x_test)\n",
    "\n",
    "    # Evaluate the model's performance\n",
    "    train_accuracy = accuracy_score(y_train, y_pred_train)\n",
    "    test_accuracy = accuracy_score(y_test, y_pred_test)\n",
    "\n",
    "    print(f\"Training Accuracy: {train_accuracy:.2f}\")\n",
    "    print(f\"Testing Accuracy: {test_accuracy:.2f}\")\n",
    "    print(\"\\n\", \"-\" * 50)\n",
    "    print(\"Classification Report:\\n\", classification_report(y_test, y_pred_test, target_names=iris.target_names))\n",
    "    print(\"-\" * 50, \"\\n\")\n",
    "    return model"
   ]
  },
  {
   "cell_type": "code",
   "execution_count": 40,
   "id": "20f5698b",
   "metadata": {},
   "outputs": [],
   "source": [
    "# Initialize the RandomForestClassifier\n",
    "rf_model = RandomForestClassifier(random_state=0)"
   ]
  },
  {
   "cell_type": "code",
   "execution_count": 61,
   "id": "5e894574",
   "metadata": {},
   "outputs": [
    {
     "name": "stdout",
     "output_type": "stream",
     "text": [
      "Training Accuracy: 1.00\n",
      "Testing Accuracy: 0.98\n",
      "\n",
      " --------------------------------------------------\n",
      "Classification Report:\n",
      "               precision    recall  f1-score   support\n",
      "\n",
      "      setosa       1.00      1.00      1.00        15\n",
      "  versicolor       1.00      0.94      0.97        17\n",
      "   virginica       0.93      1.00      0.96        13\n",
      "\n",
      "    accuracy                           0.98        45\n",
      "   macro avg       0.98      0.98      0.98        45\n",
      "weighted avg       0.98      0.98      0.98        45\n",
      "\n",
      "-------------------------------------------------- \n",
      "\n",
      "Saving the trained model...\n"
     ]
    },
    {
     "data": {
      "text/plain": [
       "['trained_rf_model.pkl']"
      ]
     },
     "execution_count": 61,
     "metadata": {},
     "output_type": "execute_result"
    }
   ],
   "source": [
    "# Train and Evaluate the model\n",
    "trained_model = train_model(rf_model, x_train, x_test, y_train, y_test)\n",
    "# Save the trained model using jonlib\n",
    "print(\"Saving the trained model...\")\n",
    "joblib.dump(trained_model, 'trained_rf_model.pkl')"
   ]
  },
  {
   "cell_type": "markdown",
   "id": "0dd24ed5",
   "metadata": {},
   "source": [
    "# Testing the model"
   ]
  },
  {
   "cell_type": "code",
   "execution_count": 65,
   "id": "478234b8",
   "metadata": {},
   "outputs": [
    {
     "name": "stdout",
     "output_type": "stream",
     "text": [
      "Predictions on the test set\n",
      "✅ Sample 1: Predicted: setosa, Actual: setosa\n",
      "✅ Sample 2: Predicted: setosa, Actual: setosa\n",
      "✅ Sample 3: Predicted: virginica, Actual: virginica\n",
      "✅ Sample 4: Predicted: versicolor, Actual: versicolor\n",
      "✅ Sample 5: Predicted: virginica, Actual: virginica\n",
      "✅ Sample 6: Predicted: setosa, Actual: setosa\n",
      "✅ Sample 7: Predicted: virginica, Actual: virginica\n",
      "✅ Sample 8: Predicted: versicolor, Actual: versicolor\n",
      "✅ Sample 9: Predicted: versicolor, Actual: versicolor\n",
      "✅ Sample 10: Predicted: versicolor, Actual: versicolor\n"
     ]
    }
   ],
   "source": [
    "# Make predictions on the test set\n",
    "y_pred = trained_model.predict(x_test)\n",
    "# Testing the model\n",
    "print(\"Predictions on the test set\")\n",
    "for i in range(10):\n",
    "    predicted_class = label_map[y_pred[i]]\n",
    "    actual_class = label_map[y_test[i]]\n",
    "    if predicted_class == actual_class:\n",
    "        em = \"✅\"\n",
    "    else:\n",
    "        em = \"❌\"\n",
    "    print(f\"{em} Sample {i+1}: Predicted: {predicted_class}, Actual: {actual_class}\")\n"
   ]
  }
 ],
 "metadata": {
  "kernelspec": {
   "display_name": "venv",
   "language": "python",
   "name": "python3"
  },
  "language_info": {
   "codemirror_mode": {
    "name": "ipython",
    "version": 3
   },
   "file_extension": ".py",
   "mimetype": "text/x-python",
   "name": "python",
   "nbconvert_exporter": "python",
   "pygments_lexer": "ipython3",
   "version": "3.12.9"
  }
 },
 "nbformat": 4,
 "nbformat_minor": 5
}
